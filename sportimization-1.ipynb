{
 "cells": [
  {
   "cell_type": "code",
   "execution_count": 8,
   "metadata": {},
   "outputs": [],
   "source": [
    "DATASET_NAME = \"football-players-detection-3zvbc\"\n",
    "DATASET_ROOT_FOLDER = os.path.join(\"data\",DATASET_NAME)\n",
    "MODEL_NAME = \"sportimization-1\"\n",
    "MODEL_ARCH = \"v9-s\"\n",
    "NUM_EPOCH = 1\n",
    "BATCH_SIZE = 4\n",
    "IMAGE_SIZE = 1280\n",
    "RESUME = True\n",
    "OUTPUT_PATH = \"runs\"#\"/content/drive/MyDrive/\"+MODEL_NAME #runs"
   ]
  },
  {
   "cell_type": "code",
   "execution_count": 9,
   "metadata": {},
   "outputs": [
    {
     "name": "stdout",
     "output_type": "stream",
     "text": [
      "You are already logged into Roboflow. To make a different login,run roboflow.login(force=True).\n",
      "loading Roboflow workspace...\n",
      "loading Roboflow project...\n"
     ]
    }
   ],
   "source": [
    "import roboflow\n",
    "import os\n",
    "\n",
    "roboflow.login()\n",
    "\n",
    "rf = roboflow.Roboflow()\n",
    "project = rf.workspace(\"roboflow-jvuqo\").project(DATASET_NAME)\n",
    "dataset = project.version(12).download(model_format=\"yolov9\",location=os.path.join(\".\",\"data\",DATASET_NAME))\n"
   ]
  },
  {
   "cell_type": "code",
   "execution_count": 10,
   "metadata": {},
   "outputs": [],
   "source": [
    "# directory structure bullshit....\n",
    "\n",
    "import shutil\n",
    "import glob\n",
    "\n",
    "image_dir = os.path.join(DATASET_ROOT_FOLDER,\"images\")\n",
    "labels_dir = os.path.join(DATASET_ROOT_FOLDER,\"labels\")\n",
    "phases = [\"train\",\"valid\",\"test\"]\n",
    "for phase in phases:\n",
    "    os.makedirs(os.path.join(image_dir,phase),exist_ok=True)\n",
    "    imgs_to_move = glob.glob(os.path.join(DATASET_ROOT_FOLDER,phase,\"images\",\"*.jpg\"))\n",
    "    for img in imgs_to_move:\n",
    "        shutil.move(img,os.path.join(image_dir,phase))\n",
    "    os.makedirs(os.path.join(labels_dir,phase),exist_ok=True)\n",
    "    labels_to_move = glob.glob(os.path.join(DATASET_ROOT_FOLDER,phase,\"labels\",\"*.txt\"))\n",
    "    for label in labels_to_move:\n",
    "        shutil.move(label,os.path.join(labels_dir,phase))"
   ]
  },
  {
   "cell_type": "code",
   "execution_count": 11,
   "metadata": {},
   "outputs": [
    {
     "name": "stdout",
     "output_type": "stream",
     "text": [
      "{'hydra': {'run': {'dir': 'runs'}}, 'name': 'sportimization-1', 'defaults': ['_self_', {'task': 'train-sportimization-1'}, {'dataset': 'football-players-detection-3zvbc'}, {'model': 'v9-s'}, 'general-sportimization-1'], 'resume': True}\n"
     ]
    }
   ],
   "source": [
    "# modify yolo config file\n",
    "import yaml\n",
    "\n",
    "\n",
    "\n",
    "with open(\"yolo/config/config.yaml\",\"r\") as file:\n",
    "    data = yaml.safe_load(file)\n",
    "    data[\"name\"] = MODEL_NAME\n",
    "    data[\"resume\"] = RESUME\n",
    "    defaults = data[\"defaults\"]\n",
    "    for item in defaults:\n",
    "        if isinstance(item, dict):\n",
    "            if \"model\" in item.keys():\n",
    "                item[\"model\"] = MODEL_ARCH\n",
    "            elif \"dataset\" in item.keys():\n",
    "                item[\"dataset\"] = DATASET_NAME\n",
    "            elif \"task\" in item.keys():\n",
    "                item[\"task\"] = \"train-\"+MODEL_NAME\n",
    "    defaults[-1] = \"general-\"+MODEL_NAME\n",
    "    hydra = data[\"hydra\"]\n",
    "    run = hydra[\"run\"]\n",
    "    run[\"dir\"] = OUTPUT_PATH\n",
    "\n",
    "\n",
    "        \n",
    "    print(data)    \n",
    "    with open(os.path.join(\"yolo\",\"config\",MODEL_NAME+\".yaml\"),\"w\") as out:\n",
    "        yaml.safe_dump(data=data,stream=out,sort_keys=False)\n",
    "\n",
    "with open(\"yolo/config/general.yaml\",\"r\") as file:\n",
    "    data = yaml.safe_load(file)\n",
    "    data[\"use_wandb\"] = False\n",
    "    data[\"use_tensorboard\"] = False\n",
    "    #data[\"cpu_num\"] = 8\n",
    "    data[\"image_size\"] = [IMAGE_SIZE,IMAGE_SIZE]\n",
    "    data[\"out_path\"] = OUTPUT_PATH\n",
    "    with open(os.path.join(\"yolo\",\"config\",\"general-\"+MODEL_NAME+\".yaml\"),\"w\") as out:\n",
    "        yaml.safe_dump(data=data,stream=out,sort_keys=False)\n",
    "\n",
    "with open(\"yolo/config/task/train.yaml\",\"r\") as file:\n",
    "    data = yaml.safe_load(file)\n",
    "    data[\"epoch\"] = NUM_EPOCH\n",
    "    d = data[\"data\"]\n",
    "    d[\"batch_size\"]= BATCH_SIZE\n",
    "    with open(os.path.join(\"yolo\",\"config\",\"task\",\"train-\"+MODEL_NAME+\".yaml\"),\"w\") as out:\n",
    "        yaml.safe_dump(data=data,stream=out,sort_keys=False)\n",
    "\n",
    "with open(os.path.join(\"data\",DATASET_NAME,\"data.yaml\"),\"r\") as file:\n",
    "    data = yaml.safe_load(file)\n",
    "    data[\"path\"] = os.path.join(\"data\",DATASET_NAME)\n",
    "    data[\"train\"] = \"train\"\n",
    "    data[\"validation\"] = \"valid\"\n",
    "    data[\"test\"] = \"test\"\n",
    "    data[\"class_num\"] = data[\"nc\"]\n",
    "    data.pop(\"nc\")\n",
    "    data.pop(\"val\")\n",
    "    with open(os.path.join(\"yolo\",\"config\",\"dataset\",DATASET_NAME+\".yaml\"),\"w\") as out:\n",
    "        yaml.safe_dump(data=data,stream=out,sort_keys=False)\n"
   ]
  },
  {
   "cell_type": "code",
   "execution_count": null,
   "metadata": {},
   "outputs": [],
   "source": [
    "# start training\n"
   ]
  }
 ],
 "metadata": {
  "kernelspec": {
   "display_name": "env",
   "language": "python",
   "name": "python3"
  },
  "language_info": {
   "codemirror_mode": {
    "name": "ipython",
    "version": 3
   },
   "file_extension": ".py",
   "mimetype": "text/x-python",
   "name": "python",
   "nbconvert_exporter": "python",
   "pygments_lexer": "ipython3",
   "version": "3.10.9"
  }
 },
 "nbformat": 4,
 "nbformat_minor": 2
}
