{
 "cells": [
  {
   "cell_type": "code",
   "execution_count": 7,
   "metadata": {},
   "outputs": [
    {
     "name": "stdout",
     "output_type": "stream",
     "text": [
      "You are already logged into Roboflow. To make a different login,run roboflow.login(force=True).\n",
      "loading Roboflow workspace...\n",
      "loading Roboflow project...\n"
     ]
    },
    {
     "name": "stderr",
     "output_type": "stream",
     "text": [
      "Downloading Dataset Version Zip in ./data/football-players-detection-3zvbc to yolov9:: 100%|██████████| 65763/65763 [00:05<00:00, 11938.04it/s]"
     ]
    },
    {
     "name": "stdout",
     "output_type": "stream",
     "text": [
      "\n"
     ]
    },
    {
     "name": "stderr",
     "output_type": "stream",
     "text": [
      "\n",
      "Extracting Dataset Version Zip to ./data/football-players-detection-3zvbc in yolov9:: 100%|██████████| 756/756 [00:00<00:00, 3944.53it/s]\n"
     ]
    }
   ],
   "source": [
    "import roboflow\n",
    "import os\n",
    "\n",
    "roboflow.login()\n",
    "\n",
    "rf = roboflow.Roboflow()\n",
    "DATASET_NAME = \"football-players-detection-3zvbc\"\n",
    "DATASET_ROOT_FOLDER = os.path.join(\"data\",DATASET_NAME)\n",
    "MODEL_NAME = \"sportimization-1\"\n",
    "MODEL_ARCH = \"v9-s\"\n",
    "NUM_EPOCH = 1\n",
    "BATCH_SIZE = 4\n",
    "IMAGE_SIZE = 1280\n",
    "project = rf.workspace(\"roboflow-jvuqo\").project(DATASET_NAME)\n",
    "dataset = project.version(12).download(model_format=\"yolov9\",location=os.path.join(\".\",\"data\",DATASET_NAME))\n"
   ]
  },
  {
   "cell_type": "code",
   "execution_count": null,
   "metadata": {},
   "outputs": [],
   "source": [
    "# directory structure bullshit....\n",
    "\n",
    "import shutil\n",
    "import glob\n",
    "\n",
    "image_dir = os.path.join(DATASET_ROOT_FOLDER,\"images\")\n",
    "labels_dir = os.path.join(DATASET_ROOT_FOLDER,\"labels\")\n",
    "phases = [\"train\",\"valid\",\"test\"]\n",
    "for phase in phases:\n",
    "    os.makedirs(os.path.join(image_dir,phase),exist_ok=True)\n",
    "    imgs_to_move = glob.glob(os.path.join(DATASET_ROOT_FOLDER,phase,\"images\",\"*.jpg\"))\n",
    "    for img in imgs_to_move:\n",
    "        shutil.move(img,os.path.join(image_dir,phase))\n",
    "    os.makedirs(os.path.join(labels_dir,phase),exist_ok=True)\n",
    "    labels_to_move = glob.glob(os.path.join(DATASET_ROOT_FOLDER,phase,\"labels\",\"*.txt\"))\n",
    "    for label in labels_to_move:\n",
    "        shutil.move(label,os.path.join(labels_dir,phase))"
   ]
  },
  {
   "cell_type": "code",
   "execution_count": 16,
   "metadata": {},
   "outputs": [
    {
     "name": "stdout",
     "output_type": "stream",
     "text": [
      "{'hydra': {'run': {'dir': 'runs'}}, 'name': 'sportimization-1', 'defaults': ['_self_', {'task': 'train-sportimization-1'}, {'dataset': 'football-players-detection-3zvbc'}, {'model': 'v9-s'}, 'general-sportimization-1']}\n"
     ]
    },
    {
     "ename": "NameError",
     "evalue": "name 'IMAGE_SIZE' is not defined",
     "output_type": "error",
     "traceback": [
      "\u001b[0;31m---------------------------------------------------------------------------\u001b[0m",
      "\u001b[0;31mNameError\u001b[0m                                 Traceback (most recent call last)",
      "Cell \u001b[0;32mIn[16], line 30\u001b[0m\n\u001b[1;32m     28\u001b[0m data[\u001b[38;5;124m\"\u001b[39m\u001b[38;5;124muse_tensorboard\u001b[39m\u001b[38;5;124m\"\u001b[39m] \u001b[38;5;241m=\u001b[39m \u001b[38;5;28;01mFalse\u001b[39;00m\n\u001b[1;32m     29\u001b[0m data[\u001b[38;5;124m\"\u001b[39m\u001b[38;5;124mcpu_num\u001b[39m\u001b[38;5;124m\"\u001b[39m] \u001b[38;5;241m=\u001b[39m \u001b[38;5;241m8\u001b[39m\n\u001b[0;32m---> 30\u001b[0m data[\u001b[38;5;124m\"\u001b[39m\u001b[38;5;124mimage_size\u001b[39m\u001b[38;5;124m\"\u001b[39m] \u001b[38;5;241m=\u001b[39m [\u001b[43mIMAGE_SIZE\u001b[49m,IMAGE_SIZE]\n\u001b[1;32m     31\u001b[0m \u001b[38;5;28;01mwith\u001b[39;00m \u001b[38;5;28mopen\u001b[39m(os\u001b[38;5;241m.\u001b[39mpath\u001b[38;5;241m.\u001b[39mjoin(\u001b[38;5;124m\"\u001b[39m\u001b[38;5;124myolo\u001b[39m\u001b[38;5;124m\"\u001b[39m,\u001b[38;5;124m\"\u001b[39m\u001b[38;5;124mconfig\u001b[39m\u001b[38;5;124m\"\u001b[39m,\u001b[38;5;124m\"\u001b[39m\u001b[38;5;124mgeneral-\u001b[39m\u001b[38;5;124m\"\u001b[39m\u001b[38;5;241m+\u001b[39mMODEL_NAME\u001b[38;5;241m+\u001b[39m\u001b[38;5;124m\"\u001b[39m\u001b[38;5;124m.yaml\u001b[39m\u001b[38;5;124m\"\u001b[39m),\u001b[38;5;124m\"\u001b[39m\u001b[38;5;124mw\u001b[39m\u001b[38;5;124m\"\u001b[39m) \u001b[38;5;28;01mas\u001b[39;00m out:\n\u001b[1;32m     32\u001b[0m     yaml\u001b[38;5;241m.\u001b[39msafe_dump(data\u001b[38;5;241m=\u001b[39mdata,stream\u001b[38;5;241m=\u001b[39mout,sort_keys\u001b[38;5;241m=\u001b[39m\u001b[38;5;28;01mFalse\u001b[39;00m)\n",
      "\u001b[0;31mNameError\u001b[0m: name 'IMAGE_SIZE' is not defined"
     ]
    }
   ],
   "source": [
    "# modify yolo config file\n",
    "import yaml\n",
    "\n",
    "\n",
    "\n",
    "with open(\"yolo/config/config.yaml\",\"r\") as file:\n",
    "    data = yaml.safe_load(file)\n",
    "    data[\"name\"] = MODEL_NAME\n",
    "    defaults = data[\"defaults\"]\n",
    "    for item in defaults:\n",
    "        if isinstance(item, dict):\n",
    "            if \"model\" in item.keys():\n",
    "                item[\"model\"] = MODEL_ARCH\n",
    "            elif \"dataset\" in item.keys():\n",
    "                item[\"dataset\"] = DATASET_NAME\n",
    "            elif \"task\" in item.keys():\n",
    "                item[\"task\"] = \"train-\"+MODEL_NAME\n",
    "    defaults[-1] = \"general-\"+MODEL_NAME\n",
    "\n",
    "        \n",
    "    print(data)    \n",
    "    with open(os.path.join(\"yolo\",\"config\",MODEL_NAME+\".yaml\"),\"w\") as out:\n",
    "        yaml.safe_dump(data=data,stream=out,sort_keys=False)\n",
    "\n",
    "with open(\"yolo/config/general.yaml\",\"r\") as file:\n",
    "    data = yaml.safe_load(file)\n",
    "    data[\"use_wandb\"] = False\n",
    "    data[\"use_tensorboard\"] = False\n",
    "    data[\"cpu_num\"] = 8\n",
    "    data[\"image_size\"] = [IMAGE_SIZE,IMAGE_SIZE]\n",
    "    with open(os.path.join(\"yolo\",\"config\",\"general-\"+MODEL_NAME+\".yaml\"),\"w\") as out:\n",
    "        yaml.safe_dump(data=data,stream=out,sort_keys=False)\n",
    "\n",
    "with open(\"yolo/config/task/train.yaml\",\"r\") as file:\n",
    "    data = yaml.safe_load(file)\n",
    "    data[\"epoch\"] = NUM_EPOCH\n",
    "    data[\"batch_size\"] = BATCH_SIZE\n",
    "    with open(os.path.join(\"yolo\",\"config\",\"task\",\"train-\"+MODEL_NAME+\".yaml\"),\"w\") as out:\n",
    "        yaml.safe_dump(data=data,stream=out,sort_keys=False)\n",
    "\n",
    "with open(os.path.join(\"data\",DATASET_NAME,\"data.yaml\"),\"r\") as file:\n",
    "    data = yaml.safe_load(file)\n",
    "    data[\"train\"] = os.path.join(\"data\",DATASET_NAME,\"train\",\"images\")\n",
    "    data[\"val\"] = os.path.join(\"data\",DATASET_NAME,\"valid\",\"images\")\n",
    "    data[\"test\"] = os.path.join(\"data\",DATASET_NAME,\"test\",\"images\")\n",
    "    data[\"class_num\"] = data[\"nc\"]\n",
    "    data.pop(\"nc\")\n",
    "    with open(os.path.join(\"yolo\",\"config\",\"dataset\",DATASET_NAME+\".yaml\"),\"w\") as out:\n",
    "        yaml.safe_dump(data=data,stream=out,sort_keys=False)\n"
   ]
  },
  {
   "cell_type": "code",
   "execution_count": null,
   "metadata": {},
   "outputs": [],
   "source": [
    "# start training\n"
   ]
  }
 ],
 "metadata": {
  "kernelspec": {
   "display_name": "env",
   "language": "python",
   "name": "python3"
  },
  "language_info": {
   "codemirror_mode": {
    "name": "ipython",
    "version": 3
   },
   "file_extension": ".py",
   "mimetype": "text/x-python",
   "name": "python",
   "nbconvert_exporter": "python",
   "pygments_lexer": "ipython3",
   "version": "3.10.9"
  }
 },
 "nbformat": 4,
 "nbformat_minor": 2
}
