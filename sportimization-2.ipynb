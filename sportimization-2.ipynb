{
 "cells": [
  {
   "cell_type": "code",
   "execution_count": 1,
   "metadata": {},
   "outputs": [],
   "source": [
    "import os\n",
    "DATASET_NAME = \"test_project-3cocv-pfiyk\"\n",
    "DATASET_ROOT_FOLDER = os.path.join(\"data\",DATASET_NAME)\n",
    "MODEL_NAME = \"sportimization-1b\"\n",
    "MODEL_ARCH = \"v9-c\"\n",
    "NUM_EPOCH = 1\n",
    "BATCH_SIZE = 1\n",
    "IMAGE_SIZE = 640\n",
    "RESUME = \"\"\n",
    "DATASET_VERSION = \"coco\" # yolov7,yolov9,yolov11 , only coco is working correctly?\n",
    "OUTPUT_PATH = \"runs\"#\"/content/drive/MyDrive/\"+MODEL_NAME #runs"
   ]
  },
  {
   "cell_type": "code",
   "execution_count": 6,
   "metadata": {},
   "outputs": [
    {
     "name": "stdout",
     "output_type": "stream",
     "text": [
      "You are already logged into Roboflow. To make a different login,run roboflow.login(force=True).\n",
      "loading Roboflow workspace...\n",
      "loading Roboflow project...\n"
     ]
    },
    {
     "name": "stderr",
     "output_type": "stream",
     "text": [
      "Downloading Dataset Version Zip in ./data/test_project-3cocv-pfiyk to coco:: 100%|██████████| 1230115/1230115 [01:27<00:00, 13983.20it/s]"
     ]
    },
    {
     "name": "stdout",
     "output_type": "stream",
     "text": [
      "\n"
     ]
    },
    {
     "name": "stderr",
     "output_type": "stream",
     "text": [
      "\n",
      "Extracting Dataset Version Zip to ./data/test_project-3cocv-pfiyk in coco:: 100%|██████████| 12626/12626 [00:03<00:00, 3734.65it/s]\n"
     ]
    }
   ],
   "source": [
    "import roboflow\n",
    "\n",
    "\n",
    "roboflow.login()\n",
    "\n",
    "rf = roboflow.Roboflow()\n",
    "project = rf.workspace(\"ws-tmip7\").project(DATASET_NAME)\n",
    "dataset = project.version(1).download(model_format=\"coco\",location=os.path.join(\".\",\"data\",DATASET_NAME))\n"
   ]
  },
  {
   "cell_type": "code",
   "execution_count": 5,
   "metadata": {},
   "outputs": [
    {
     "name": "stdout",
     "output_type": "stream",
     "text": [
      "[{'id': 1, 'name': 'ball', 'supercategory': 'football'}, {'id': 2, 'name': 'goalkeeper', 'supercategory': 'football'}, {'id': 3, 'name': 'player', 'supercategory': 'football'}, {'id': 4, 'name': 'referee', 'supercategory': 'football'}]\n",
      "[{'id': 1, 'name': 'ball', 'supercategory': 'football'}, {'id': 2, 'name': 'goalkeeper', 'supercategory': 'football'}, {'id': 3, 'name': 'player', 'supercategory': 'football'}, {'id': 4, 'name': 'referee', 'supercategory': 'football'}]\n",
      "[{'id': 1, 'name': 'ball', 'supercategory': 'football'}, {'id': 2, 'name': 'goalkeeper', 'supercategory': 'football'}, {'id': 3, 'name': 'player', 'supercategory': 'football'}, {'id': 4, 'name': 'referee', 'supercategory': 'football'}]\n"
     ]
    }
   ],
   "source": [
    "# directory structure bullshit....\n",
    "# convert roboflow directory structure and filenames to YOLO MIT version\n",
    "\n",
    "import shutil\n",
    "import glob\n",
    "import json\n",
    "\n",
    "image_dir = os.path.join(DATASET_ROOT_FOLDER,\"images\")\n",
    "labels_dir = os.path.join(DATASET_ROOT_FOLDER,\"labels\")\n",
    "annotations_dir =os.path.join(DATASET_ROOT_FOLDER,\"annotations\")\n",
    "phases = [\"train\",\"valid\",\"test\"]\n",
    "for phase in phases:\n",
    "    os.makedirs(os.path.join(image_dir,phase),exist_ok=True)\n",
    "    imgs_to_move = glob.glob(os.path.join(DATASET_ROOT_FOLDER,phase,\"**\",\"*.jpg\"),recursive=True)\n",
    "    #Yolo MIT needs them in dataset_root/images/<phase>/\n",
    "    for img in imgs_to_move:\n",
    "        shutil.move(img,os.path.join(image_dir,phase))\n",
    "\n",
    "    #labels for yolo datasets\n",
    "    #Yolo MIT needs them in datsset_root/labels/<phase>/\n",
    "    if os.path.isdir(os.path.join(DATASET_ROOT_FOLDER,phase,\"labels\")):\n",
    "        os.makedirs(os.path.join(labels_dir,phase),exist_ok=True)\n",
    "        labels_to_move = glob.glob(os.path.join(DATASET_ROOT_FOLDER,phase,\"labels\",\"*.txt\"))\n",
    "        for label in labels_to_move:\n",
    "            shutil.move(label,os.path.join(labels_dir,phase))\n",
    "\n",
    "    #annotations for coco datasets. roboflow puts them in the image directory\n",
    "    #yolo MIT needs them in dataset_root/annotations/instances_<phase>.json\n",
    "    annotations_to_move = glob.glob(os.path.join(DATASET_ROOT_FOLDER,phase,\"**\",\"*.json\"),recursive=True)\n",
    "    if len(annotations_to_move) >0:\n",
    "        if(len(annotations_to_move)>1):\n",
    "            raise Exception(\"Expected one annotation json\")\n",
    "        os.makedirs(annotations_dir,exist_ok=True)\n",
    "        for annotation_file in annotations_to_move:\n",
    "            annotation_data = dict()\n",
    "            #roboflow creates a dummy category with id 0...no idea why....\n",
    "            with open(annotation_file,\"r\") as json_file:\n",
    "                annotation_data = json.load(json_file)\n",
    "                annotation_data[\"categories\"].pop(0)\n",
    "                for category in annotation_data[\"categories\"]:\n",
    "                    category['supercategory'] = 'football'\n",
    "            with open(os.path.join(annotations_dir,\"instances_\"+phase+\".json\",\"w\")) as json_file:\n",
    "                json.dump(annotation_data,json_file)\n",
    "\n",
    "\n"
   ]
  },
  {
   "cell_type": "code",
   "execution_count": 17,
   "metadata": {},
   "outputs": [
    {
     "name": "stdout",
     "output_type": "stream",
     "text": [
      "{'hydra': {'run': {'dir': 'runs'}}, 'name': 'sportimization-1', 'resume': True, 'defaults': ['_self_', {'task': 'train-sportimization-1'}, {'dataset': 'football-players-detection-3zvbc'}, {'model': 'v9-s'}, 'general-sportimization-1']}\n"
     ]
    },
    {
     "ename": "FileNotFoundError",
     "evalue": "[Errno 2] No such file or directory: 'data/football-players-detection-3zvbc/data.yaml'",
     "output_type": "error",
     "traceback": [
      "\u001b[0;31m---------------------------------------------------------------------------\u001b[0m",
      "\u001b[0;31mFileNotFoundError\u001b[0m                         Traceback (most recent call last)",
      "Cell \u001b[0;32mIn[17], line 48\u001b[0m\n\u001b[1;32m     45\u001b[0m     \u001b[38;5;28;01mwith\u001b[39;00m \u001b[38;5;28mopen\u001b[39m(os\u001b[38;5;241m.\u001b[39mpath\u001b[38;5;241m.\u001b[39mjoin(\u001b[38;5;124m\"\u001b[39m\u001b[38;5;124myolo\u001b[39m\u001b[38;5;124m\"\u001b[39m,\u001b[38;5;124m\"\u001b[39m\u001b[38;5;124mconfig\u001b[39m\u001b[38;5;124m\"\u001b[39m,\u001b[38;5;124m\"\u001b[39m\u001b[38;5;124mtask\u001b[39m\u001b[38;5;124m\"\u001b[39m,\u001b[38;5;124m\"\u001b[39m\u001b[38;5;124mtrain-\u001b[39m\u001b[38;5;124m\"\u001b[39m\u001b[38;5;241m+\u001b[39mMODEL_NAME\u001b[38;5;241m+\u001b[39m\u001b[38;5;124m\"\u001b[39m\u001b[38;5;124m.yaml\u001b[39m\u001b[38;5;124m\"\u001b[39m),\u001b[38;5;124m\"\u001b[39m\u001b[38;5;124mw\u001b[39m\u001b[38;5;124m\"\u001b[39m) \u001b[38;5;28;01mas\u001b[39;00m out:\n\u001b[1;32m     46\u001b[0m         yaml\u001b[38;5;241m.\u001b[39msafe_dump(data\u001b[38;5;241m=\u001b[39mdata,stream\u001b[38;5;241m=\u001b[39mout,sort_keys\u001b[38;5;241m=\u001b[39m\u001b[38;5;28;01mFalse\u001b[39;00m)\n\u001b[0;32m---> 48\u001b[0m \u001b[38;5;28;01mwith\u001b[39;00m \u001b[38;5;28;43mopen\u001b[39;49m\u001b[43m(\u001b[49m\u001b[43mos\u001b[49m\u001b[38;5;241;43m.\u001b[39;49m\u001b[43mpath\u001b[49m\u001b[38;5;241;43m.\u001b[39;49m\u001b[43mjoin\u001b[49m\u001b[43m(\u001b[49m\u001b[38;5;124;43m\"\u001b[39;49m\u001b[38;5;124;43mdata\u001b[39;49m\u001b[38;5;124;43m\"\u001b[39;49m\u001b[43m,\u001b[49m\u001b[43mDATASET_NAME\u001b[49m\u001b[43m,\u001b[49m\u001b[38;5;124;43m\"\u001b[39;49m\u001b[38;5;124;43mdata.yaml\u001b[39;49m\u001b[38;5;124;43m\"\u001b[39;49m\u001b[43m)\u001b[49m\u001b[43m,\u001b[49m\u001b[38;5;124;43m\"\u001b[39;49m\u001b[38;5;124;43mr\u001b[39;49m\u001b[38;5;124;43m\"\u001b[39;49m\u001b[43m)\u001b[49m \u001b[38;5;28;01mas\u001b[39;00m file:\n\u001b[1;32m     49\u001b[0m     data \u001b[38;5;241m=\u001b[39m yaml\u001b[38;5;241m.\u001b[39msafe_load(file)\n\u001b[1;32m     50\u001b[0m     data[\u001b[38;5;124m\"\u001b[39m\u001b[38;5;124mpath\u001b[39m\u001b[38;5;124m\"\u001b[39m] \u001b[38;5;241m=\u001b[39m os\u001b[38;5;241m.\u001b[39mpath\u001b[38;5;241m.\u001b[39mjoin(\u001b[38;5;124m\"\u001b[39m\u001b[38;5;124mdata\u001b[39m\u001b[38;5;124m\"\u001b[39m,DATASET_NAME)\n",
      "File \u001b[0;32m~/Documents/dev/anhthu/YOLO_MIT/env/lib/python3.10/site-packages/IPython/core/interactiveshell.py:324\u001b[0m, in \u001b[0;36m_modified_open\u001b[0;34m(file, *args, **kwargs)\u001b[0m\n\u001b[1;32m    317\u001b[0m \u001b[38;5;28;01mif\u001b[39;00m file \u001b[38;5;129;01min\u001b[39;00m {\u001b[38;5;241m0\u001b[39m, \u001b[38;5;241m1\u001b[39m, \u001b[38;5;241m2\u001b[39m}:\n\u001b[1;32m    318\u001b[0m     \u001b[38;5;28;01mraise\u001b[39;00m \u001b[38;5;167;01mValueError\u001b[39;00m(\n\u001b[1;32m    319\u001b[0m         \u001b[38;5;124mf\u001b[39m\u001b[38;5;124m\"\u001b[39m\u001b[38;5;124mIPython won\u001b[39m\u001b[38;5;124m'\u001b[39m\u001b[38;5;124mt let you open fd=\u001b[39m\u001b[38;5;132;01m{\u001b[39;00mfile\u001b[38;5;132;01m}\u001b[39;00m\u001b[38;5;124m by default \u001b[39m\u001b[38;5;124m\"\u001b[39m\n\u001b[1;32m    320\u001b[0m         \u001b[38;5;124m\"\u001b[39m\u001b[38;5;124mas it is likely to crash IPython. If you know what you are doing, \u001b[39m\u001b[38;5;124m\"\u001b[39m\n\u001b[1;32m    321\u001b[0m         \u001b[38;5;124m\"\u001b[39m\u001b[38;5;124myou can use builtins\u001b[39m\u001b[38;5;124m'\u001b[39m\u001b[38;5;124m open.\u001b[39m\u001b[38;5;124m\"\u001b[39m\n\u001b[1;32m    322\u001b[0m     )\n\u001b[0;32m--> 324\u001b[0m \u001b[38;5;28;01mreturn\u001b[39;00m \u001b[43mio_open\u001b[49m\u001b[43m(\u001b[49m\u001b[43mfile\u001b[49m\u001b[43m,\u001b[49m\u001b[43m \u001b[49m\u001b[38;5;241;43m*\u001b[39;49m\u001b[43margs\u001b[49m\u001b[43m,\u001b[49m\u001b[43m \u001b[49m\u001b[38;5;241;43m*\u001b[39;49m\u001b[38;5;241;43m*\u001b[39;49m\u001b[43mkwargs\u001b[49m\u001b[43m)\u001b[49m\n",
      "\u001b[0;31mFileNotFoundError\u001b[0m: [Errno 2] No such file or directory: 'data/football-players-detection-3zvbc/data.yaml'"
     ]
    }
   ],
   "source": [
    "# modify yolo config file\n",
    "import yaml\n",
    "\n",
    "\n",
    "\n",
    "with open(\"yolo/config/config.yaml\",\"r\") as file:\n",
    "    data = yaml.safe_load(file)\n",
    "    data[\"name\"] = MODEL_NAME\n",
    "    data[\"resume\"] = RESUME\n",
    "    defaults = data[\"defaults\"]\n",
    "    for item in defaults:\n",
    "        if isinstance(item, dict):\n",
    "            if \"model\" in item.keys():\n",
    "                item[\"model\"] = MODEL_ARCH\n",
    "            elif \"dataset\" in item.keys():\n",
    "                item[\"dataset\"] = DATASET_NAME\n",
    "            elif \"task\" in item.keys():\n",
    "                item[\"task\"] = \"train-\"+MODEL_NAME\n",
    "    defaults[-1] = \"general-\"+MODEL_NAME\n",
    "    hydra = data[\"hydra\"]\n",
    "    run = hydra[\"run\"]\n",
    "    run[\"dir\"] = OUTPUT_PATH\n",
    "\n",
    "\n",
    "        \n",
    "    print(data)    \n",
    "    with open(os.path.join(\"yolo\",\"config\",MODEL_NAME+\".yaml\"),\"w\") as out:\n",
    "        yaml.safe_dump(data=data,stream=out,sort_keys=False)\n",
    "\n",
    "with open(\"yolo/config/general.yaml\",\"r\") as file:\n",
    "    data = yaml.safe_load(file)\n",
    "    data[\"use_wandb\"] = False\n",
    "    data[\"use_tensorboard\"] = False\n",
    "    #data[\"cpu_num\"] = 8\n",
    "    data[\"image_size\"] = [IMAGE_SIZE,IMAGE_SIZE]\n",
    "    data[\"out_path\"] = OUTPUT_PATH\n",
    "    with open(os.path.join(\"yolo\",\"config\",\"general-\"+MODEL_NAME+\".yaml\"),\"w\") as out:\n",
    "        yaml.safe_dump(data=data,stream=out,sort_keys=False)\n",
    "\n",
    "with open(\"yolo/config/task/train.yaml\",\"r\") as file:\n",
    "    data = yaml.safe_load(file)\n",
    "    data[\"epoch\"] = NUM_EPOCH\n",
    "    d = data[\"data\"]\n",
    "    d[\"batch_size\"]= BATCH_SIZE\n",
    "    with open(os.path.join(\"yolo\",\"config\",\"task\",\"train-\"+MODEL_NAME+\".yaml\"),\"w\") as out:\n",
    "        yaml.safe_dump(data=data,stream=out,sort_keys=False)\n",
    "\n",
    "with open(os.path.join(\"data\",DATASET_NAME,\"data.yaml\"),\"r\") as file:\n",
    "    data = yaml.safe_load(file)\n",
    "    data[\"path\"] = os.path.join(\"data\",DATASET_NAME)\n",
    "    data[\"train\"] = \"train\"\n",
    "    data[\"validation\"] = \"valid\"\n",
    "    data[\"test\"] = \"test\"\n",
    "    data[\"class_num\"] = data[\"nc\"]\n",
    "    data.pop(\"nc\")\n",
    "    data.pop(\"val\")\n",
    "    with open(os.path.join(\"yolo\",\"config\",\"dataset\",DATASET_NAME+\".yaml\"),\"w\") as out:\n",
    "        yaml.safe_dump(data=data,stream=out,sort_keys=False)\n"
   ]
  },
  {
   "cell_type": "code",
   "execution_count": null,
   "metadata": {},
   "outputs": [],
   "source": [
    "# start training\n"
   ]
  }
 ],
 "metadata": {
  "kernelspec": {
   "display_name": "env",
   "language": "python",
   "name": "python3"
  },
  "language_info": {
   "codemirror_mode": {
    "name": "ipython",
    "version": 3
   },
   "file_extension": ".py",
   "mimetype": "text/x-python",
   "name": "python",
   "nbconvert_exporter": "python",
   "pygments_lexer": "ipython3",
   "version": "3.10.9"
  }
 },
 "nbformat": 4,
 "nbformat_minor": 2
}
